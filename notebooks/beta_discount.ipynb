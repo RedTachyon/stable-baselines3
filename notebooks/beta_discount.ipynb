{
 "cells": [
  {
   "cell_type": "code",
   "execution_count": 7,
   "metadata": {},
   "outputs": [],
   "source": [
    "import numpy as np\n",
    "import torch\n",
    "from torch import Tensor\n",
    "from scipy.linalg import toeplitz\n",
    "import scipy.sparse\n",
    "\n",
    "from typing import Tuple, List, Optional\n",
    "\n",
    "import matplotlib.pyplot as plt\n",
    "import seaborn as sns\n",
    "\n",
    "from stable_baselines3.common.buffers import RolloutBuffer\n",
    "\n",
    "sns.set()\n",
    "\n",
    "from tqdm import trange, tqdm"
   ]
  },
  {
   "cell_type": "code",
   "execution_count": 120,
   "metadata": {},
   "outputs": [],
   "source": [
    "import numba"
   ]
  },
  {
   "cell_type": "code",
   "execution_count": 8,
   "metadata": {},
   "outputs": [
    {
     "name": "stdout",
     "output_type": "stream",
     "text": [
      "The line_profiler extension is already loaded. To reload it, use:\n",
      "  %reload_ext line_profiler\n"
     ]
    }
   ],
   "source": [
    "%load_ext line_profiler"
   ]
  },
  {
   "cell_type": "code",
   "execution_count": 9,
   "metadata": {},
   "outputs": [],
   "source": [
    "def exp_discount_episode(rewards: np.ndarray,\n",
    "                         values: np.ndarray,\n",
    "                         γ: float = 0.99) -> Tuple[np.ndarray, np.ndarray]:\n",
    "    \n",
    "    discount_vector = np.array([[γ**t for t in range(len(rewards))]])\n",
    "    \n",
    "    discount_mat = np.triu(toeplitz(discount_vector))\n",
    "    \n",
    "    returns = discount_mat @ rewards\n",
    "    \n",
    "    advantages = returns - values\n",
    "    \n",
    "    return returns, advantages"
   ]
  },
  {
   "cell_type": "code",
   "execution_count": 10,
   "metadata": {},
   "outputs": [],
   "source": [
    "def exp_kernel_discount(rewards: np.ndarray,  # Clearly a superior implementation\n",
    "                        values: np.ndarray,\n",
    "                        γ: float = 0.99) -> Tuple[np.ndarray, np.ndarray]:\n",
    "\n",
    "    T = len(rewards)\n",
    "    discount_vector = np.array([[γ**t for t in range(len(rewards))]])\n",
    "    returns = np.zeros_like(rewards)\n",
    "    \n",
    "    for i in range(T):\n",
    "        returns[i] = discount_vector[:,:T-i] @ rewards[i:]\n",
    "        \n",
    "    advantages = returns - values\n",
    "        \n",
    "    return returns, advantages\n"
   ]
  },
  {
   "cell_type": "code",
   "execution_count": 11,
   "metadata": {},
   "outputs": [],
   "source": [
    "def exp_slower_discount(rewards: np.ndarray,  # Clearly an inferior implementation\n",
    "                        values: np.ndarray,\n",
    "                        γ: float = 0.99) -> Tuple[np.ndarray, np.ndarray]:\n",
    "    \n",
    "    returns = np.zeros_like(rewards)\n",
    "    T = len(rewards)\n",
    "    \n",
    "    for i in range(T):\n",
    "        discount_vector = np.array([[γ**t for t in range(T-i)]])\n",
    "\n",
    "        returns[i] = discount_vector @ rewards[i:]\n",
    "        \n",
    "    advantages = returns - values\n",
    "        \n",
    "    return returns, advantages\n"
   ]
  },
  {
   "cell_type": "code",
   "execution_count": 12,
   "metadata": {},
   "outputs": [],
   "source": [
    "def get_beta_vector(T: int,\n",
    "                    α: float,\n",
    "                    β: float) -> np.ndarray:\n",
    "    \n",
    "    discount = np.zeros((1, T))\n",
    "    \n",
    "    current_discount = 1\n",
    "    for t in range(T):\n",
    "        discount[0, t] = current_discount\n",
    "        current_discount *= (α + t) / (α + β + t)\n",
    "        \n",
    "    return discount\n",
    "\n",
    "def beta_kernel_discount(rewards: np.ndarray,\n",
    "                         values: np.ndarray,\n",
    "                         α: float = 99*100,\n",
    "                         β: float = 1*100):\n",
    "    T = len(rewards)\n",
    "    discount_vector = get_beta_vector(T, α, β)\n",
    "    returns = np.zeros_like(rewards)\n",
    "    \n",
    "    for i in range(T):\n",
    "        returns[i] = discount_vector[:,:T-i] @ rewards[i:]\n",
    "#         discount_vector = discount_vector[:, :-1]\n",
    "        \n",
    "    advantages = returns - values\n",
    "    \n",
    "    return returns, advantages\n"
   ]
  },
  {
   "cell_type": "code",
   "execution_count": 13,
   "metadata": {},
   "outputs": [],
   "source": [
    "def alt_gae(rewards: np.ndarray,\n",
    "            values: np.ndarray, \n",
    "            last_values: np.ndarray,\n",
    "            γ: float = 0.99,\n",
    "            λ: float = 0.95):\n",
    "    \n",
    "    T = len(rewards)\n",
    "    advantages = np.zeros((T, 1))\n",
    "\n",
    "    next_values = np.concatenate((values, last_values))[1:]\n",
    "    \n",
    "    deltas = rewards + γ * next_values - values\n",
    "    \n",
    "    decay_vector = np.array([[(γ * λ)**l for l in range(T)]])\n",
    "    \n",
    "    for t in range(T):\n",
    "        advantages[t] = decay_vector[:,:T-t] @ deltas[t:]\n",
    "        \n",
    "    returns = advantages + values\n",
    "    \n",
    "    return returns, advantages"
   ]
  },
  {
   "cell_type": "code",
   "execution_count": 16,
   "metadata": {},
   "outputs": [],
   "source": [
    "def gae(rewards: np.ndarray,\n",
    "        values: np.ndarray,\n",
    "        last_values: np.ndarray,\n",
    "        dones: np.ndarray,\n",
    "        final_dones: np.ndarray,\n",
    "        γ: float = 0.99,\n",
    "        λ: float = 0.95) -> Tuple[np.ndarray, np.ndarray]:\n",
    "    \n",
    "    returns = np.zeros_like(rewards)\n",
    "    advantages = np.zeros_like(rewards)\n",
    "    \n",
    "    buffer_size = rewards.shape[0]\n",
    "\n",
    "    last_gae_lam = 0\n",
    "    for step in reversed(range(buffer_size)):\n",
    "        if step == buffer_size - 1:\n",
    "            next_non_terminal = 1.0 - final_dones\n",
    "            next_values = last_values\n",
    "        else:\n",
    "            next_non_terminal = 1.0 - dones[step + 1]\n",
    "            next_values = values[step + 1]\n",
    "                        \n",
    "        delta = rewards[step] + γ * next_values * next_non_terminal - values[step]\n",
    "        \n",
    "        last_gae_lam = delta + γ * λ * next_non_terminal * last_gae_lam\n",
    "        \n",
    "        advantages[step] = last_gae_lam\n",
    "        \n",
    "    returns = advantages + values\n",
    "    \n",
    "    return returns, advantages"
   ]
  },
  {
   "cell_type": "code",
   "execution_count": 17,
   "metadata": {},
   "outputs": [],
   "source": [
    "class RolloutBuffer:\n",
    "\n",
    "    def __init__(\n",
    "        self,\n",
    "        buffer_size: int,\n",
    "        gae_lambda: float = 1,\n",
    "        gamma: float = 0.99,\n",
    "        n_envs: int = 1,\n",
    "    ):\n",
    "\n",
    "        self.buffer_size = buffer_size\n",
    "        self.gae_lambda = gae_lambda\n",
    "        self.gamma = gamma\n",
    "        self.n_envs = n_envs\n",
    "        self.reset()\n",
    "\n",
    "    def reset(self) -> None:\n",
    "        self.rewards = np.zeros((self.buffer_size, self.n_envs), dtype=np.float32)\n",
    "        self.returns = np.zeros((self.buffer_size, self.n_envs), dtype=np.float32)\n",
    "        self.dones = np.zeros((self.buffer_size, self.n_envs), dtype=np.float32)\n",
    "        self.values = np.zeros((self.buffer_size, self.n_envs), dtype=np.float32)\n",
    "        self.advantages = np.zeros((self.buffer_size, self.n_envs), dtype=np.float32)\n",
    "\n",
    "    def compute_returns_and_advantage(self, last_values: np.ndarray, dones: np.ndarray) -> None:\n",
    "        \"\"\"\n",
    "        Post-processing step: compute the returns (sum of discounted rewards)\n",
    "        and GAE advantage.\n",
    "        Adapted from Stable-Baselines PPO2.\n",
    "\n",
    "        Uses Generalized Advantage Estimation (https://arxiv.org/abs/1506.02438)\n",
    "        to compute the advantage. To obtain vanilla advantage (A(s) = R - V(S))\n",
    "        where R is the discounted reward with value bootstrap,\n",
    "        set ``gae_lambda=1.0`` during initialization.\n",
    "\n",
    "        :param last_values:\n",
    "        :param dones:\n",
    "\n",
    "        \"\"\"\n",
    "        # convert to numpy\n",
    "#         last_values = last_values.clone().cpu().numpy().flatten()\n",
    "\n",
    "        last_gae_lam = 0\n",
    "        for step in reversed(range(self.buffer_size)):\n",
    "            if step == self.buffer_size - 1:\n",
    "                next_non_terminal = 1.0 - dones\n",
    "                next_values = last_values\n",
    "            else:\n",
    "                next_non_terminal = 1.0 - self.dones[step + 1]\n",
    "                next_values = self.values[step + 1]\n",
    "            delta = self.rewards[step] + self.gamma * next_values * next_non_terminal - self.values[step]\n",
    "            last_gae_lam = delta + self.gamma * self.gae_lambda * next_non_terminal * last_gae_lam\n",
    "            self.advantages[step] = last_gae_lam\n",
    "        self.returns = self.advantages + self.values"
   ]
  },
  {
   "cell_type": "code",
   "execution_count": 92,
   "metadata": {},
   "outputs": [],
   "source": [
    "from numba import njit"
   ]
  },
  {
   "cell_type": "code",
   "execution_count": 157,
   "metadata": {},
   "outputs": [],
   "source": [
    "import numpy as np\n",
    "from numba import njit\n",
    "\n",
    "@njit\n",
    "def get_beta_vector(T: int,\n",
    "                    α: float,\n",
    "                    β: float) -> np.ndarray:\n",
    "    discount = np.zeros((1, T), dtype=np.float32)\n",
    "\n",
    "    current_discount = 1\n",
    "    for t in range(T):\n",
    "        discount[0, t] = current_discount\n",
    "        current_discount *= (α + t) / (α + β + t)\n",
    "\n",
    "    return discount\n",
    "\n",
    "@njit\n",
    "def beta_gae(rewards: np.ndarray,  # [T, N]\n",
    "             values: np.ndarray,  # [T, N]\n",
    "             last_values: np.ndarray,  # [1, N]\n",
    "             dones: np.ndarray,  # [T, N], actually next_dones (whether previous step was terminal)\n",
    "             final_dones: np.ndarray,  # [1, ]\n",
    "             α: float = 99.,\n",
    "             β: float = 1.,\n",
    "             λ: float = 0.95):\n",
    "    T = rewards.shape[0]\n",
    "    N = rewards.shape[1]  # Number of envs\n",
    "    \n",
    "    advantages = np.zeros((T, N), dtype=np.float32)\n",
    "\n",
    "    final_dones = final_dones.reshape((1, N))\n",
    "    last_values = last_values.reshape((1, N))\n",
    "    next_non_terminal = 1 - np.concatenate((dones, final_dones))[1:]\n",
    "    next_values = np.concatenate((values, last_values))[1:]\n",
    "\n",
    "    Γ = get_beta_vector(T + 1, α, β)\n",
    "    lambdas = np.array([[λ ** l for l in range(T)]], dtype=np.float32)\n",
    "\n",
    "    #     γ = α / (α + β)\n",
    "    #     Γ = np.array([[γ**l for l in range(T+1)]])\n",
    "\n",
    "\n",
    "    for n in range(N):\n",
    "        # Done preprocessing step\n",
    "        steps_until_eoe = np.zeros((T,), dtype=np.int32)\n",
    "        is_final = np.zeros((T,), dtype=np.int32)\n",
    "        counter = 0\n",
    "        final = 1\n",
    "        done = False\n",
    "        factor = None\n",
    "        \n",
    "        for i, d in list(enumerate(dones[:, n]))[::-1]:\n",
    "            if done:\n",
    "                counter = 0\n",
    "                done = False\n",
    "                final = 0\n",
    "            steps_until_eoe[i] = counter\n",
    "            is_final[i] = final\n",
    "            counter += 1\n",
    "            done = d\n",
    "\n",
    "        for i in range(T):\n",
    "            steps_left = steps_until_eoe[i]\n",
    "\n",
    "            old_value = -values[i, n]\n",
    "            future_rewards = (lambdas[:, :steps_left + 1] * Γ[:, :steps_left + 1]) @ rewards[i:i + steps_left + 1,n:n+1]\n",
    "\n",
    "            if is_final[i]:\n",
    "                steps_left += 1\n",
    "\n",
    "                # Fix to properly handle the very last value of an episode\n",
    "                if factor is None:\n",
    "                    factor = np.array([[1 - λ for i in range(steps_left)]], dtype=np.float32).T\n",
    "                    factor[-1] = 1.\n",
    "                else:\n",
    "                    factor = factor[1:]\n",
    "\n",
    "                future_values = (lambdas[:, :steps_left] * Γ[:, 1:steps_left + 1]) @ (\n",
    "                            next_values[i:i + steps_left, n:n+1] * next_non_terminal[i:i + steps_left, n:n+1] * factor[-steps_left:])\n",
    "\n",
    "            else:\n",
    "                future_values = np.float32(1. - λ) * (lambdas[:, :steps_left] * Γ[:, 1:steps_left + 1]) @ (\n",
    "                            next_values[i:i + steps_left, n:n+1] * next_non_terminal[i:i + steps_left, n:n+1])\n",
    "            \n",
    "            total = old_value + future_rewards + future_values\n",
    "            advantages[i, n] = total[0,0]\n",
    "\n",
    "    returns = advantages + values\n",
    "\n",
    "    return returns, advantages\n",
    "\n",
    "\n"
   ]
  },
  {
   "cell_type": "code",
   "execution_count": 183,
   "metadata": {},
   "outputs": [],
   "source": [
    "foo = np.array([0,0,0], dtype=np.float32)"
   ]
  },
  {
   "cell_type": "markdown",
   "metadata": {},
   "source": [
    "# Simpler test"
   ]
  },
  {
   "cell_type": "code",
   "execution_count": 158,
   "metadata": {},
   "outputs": [],
   "source": [
    "T = 2\n",
    "\n",
    "rewards = np.array([[0. for t in range(T)]]).T.astype(np.float32)\n",
    "values = (np.zeros_like(rewards) + 0.5).astype(np.float32)\n",
    "dones = np.zeros_like(rewards).astype(np.float32)\n",
    "final_dones = np.array([[0.]]).astype(np.float32)\n",
    "last_values = np.array([[0.5]]).astype(np.float32)\n",
    "\n",
    "# dones = np.zeros((T, 1))\n",
    "# for i in range(0,T,T//10):\n",
    "#     dones[i, 0] = 1 if i > 0 else 0"
   ]
  },
  {
   "cell_type": "code",
   "execution_count": 159,
   "metadata": {},
   "outputs": [],
   "source": [
    "buffer = RolloutBuffer(T, 0.95, 0.9, 1)\n",
    "\n",
    "buffer.rewards = rewards\n",
    "buffer.values = values\n",
    "buffer.dones = dones\n",
    "\n",
    "\n",
    "buffer.compute_returns_and_advantage(last_values, final_dones)"
   ]
  },
  {
   "cell_type": "code",
   "execution_count": 160,
   "metadata": {},
   "outputs": [
    {
     "name": "stderr",
     "output_type": "stream",
     "text": [
      "<ipython-input-157-f9b10662c7b7>:63: NumbaPerformanceWarning: '@' is faster on contiguous arrays, called on (array(float32, 2d, C), array(float32, 2d, A))\n",
      "  future_rewards = (lambdas[:, :steps_left + 1] * Γ[:, :steps_left + 1]) @ rewards[i:i + steps_left + 1,n:n+1]\n",
      "/Users/redtachyon/anaconda3/envs/beta/lib/python3.8/site-packages/numba/core/typing/npydecl.py:933: NumbaPerformanceWarning: '@' is faster on contiguous arrays, called on (array(float32, 2d, C), array(float32, 2d, A))\n",
      "  warnings.warn(NumbaPerformanceWarning(msg))\n"
     ]
    },
    {
     "data": {
      "text/plain": [
       "[<matplotlib.lines.Line2D at 0x7fcf2880f0a0>]"
      ]
     },
     "execution_count": 160,
     "metadata": {},
     "output_type": "execute_result"
    },
    {
     "data": {
      "image/png": "[encoded data removed]",
      "text/plain": [
       "<Figure size 432x288 with 1 Axes>"
      ]
     },
     "metadata": {},
     "output_type": "display_data"
    }
   ],
   "source": [
    "beta_ret, beta_adv = beta_gae(rewards, values, last_values, dones, final_dones, 9.*1e10, 1.*1e10, np.float32(0.95))\n",
    "\n",
    "plt.plot(buffer.advantages)\n",
    "\n",
    "plt.plot(beta_adv)"
   ]
  },
  {
   "cell_type": "code",
   "execution_count": 161,
   "metadata": {},
   "outputs": [
    {
     "data": {
      "text/plain": [
       "[<matplotlib.lines.Line2D at 0x7fcf494c9520>]"
      ]
     },
     "execution_count": 161,
     "metadata": {},
     "output_type": "execute_result"
    },
    {
     "data": {
      "image/png": "[encoded data removed]",
      "text/plain": [
       "<Figure size 432x288 with 1 Axes>"
      ]
     },
     "metadata": {},
     "output_type": "display_data"
    }
   ],
   "source": [
    "plt.plot(beta_adv - buffer.advantages)"
   ]
  },
  {
   "cell_type": "code",
   "execution_count": 162,
   "metadata": {},
   "outputs": [
    {
     "data": {
      "text/plain": [
       "[<matplotlib.lines.Line2D at 0x7fcf2881b5b0>]"
      ]
     },
     "execution_count": 162,
     "metadata": {},
     "output_type": "execute_result"
    },
    {
     "data": {
      "image/png": "[encoded data removed]",
      "text/plain": [
       "<Figure size 432x288 with 1 Axes>"
      ]
     },
     "metadata": {},
     "output_type": "display_data"
    }
   ],
   "source": [
    "diff = beta_ret - buffer.returns\n",
    "plt.plot(diff)"
   ]
  },
  {
   "cell_type": "markdown",
   "metadata": {},
   "source": [
    "# Simple test"
   ]
  },
  {
   "cell_type": "code",
   "execution_count": 168,
   "metadata": {},
   "outputs": [],
   "source": [
    "T = 100\n",
    "\n",
    "rewards = np.array([[1. if t >= T//2 else 0. for t in range(T)]]).T.astype(np.float32)\n",
    "values = (np.zeros_like(rewards) + 0.5).astype(np.float32)\n",
    "dones = np.zeros_like(rewards).astype(np.float32)\n",
    "final_dones = np.array([[1.]]).astype(np.float32)\n",
    "last_values = np.array([[1.]]).astype(np.float32)\n",
    "\n",
    "dones = np.zeros((T, 1)).astype(np.float32)\n",
    "for i in range(0,T,T//10):\n",
    "    dones[i, 0] = 1 if i > 0 else 0"
   ]
  },
  {
   "cell_type": "code",
   "execution_count": 169,
   "metadata": {},
   "outputs": [],
   "source": [
    "buffer = RolloutBuffer(T, 0.95, 0.9, 1)\n",
    "\n",
    "buffer.rewards = rewards\n",
    "buffer.values = values\n",
    "buffer.dones = dones\n",
    "\n",
    "\n",
    "buffer.compute_returns_and_advantage(last_values, final_dones)"
   ]
  },
  {
   "cell_type": "code",
   "execution_count": 170,
   "metadata": {},
   "outputs": [
    {
     "name": "stderr",
     "output_type": "stream",
     "text": [
      "<ipython-input-157-f9b10662c7b7>:63: NumbaPerformanceWarning: '@' is faster on contiguous arrays, called on (array(float32, 2d, C), array(float32, 2d, A))\n",
      "  future_rewards = (lambdas[:, :steps_left + 1] * Γ[:, :steps_left + 1]) @ rewards[i:i + steps_left + 1,n:n+1]\n",
      "/Users/redtachyon/anaconda3/envs/beta/lib/python3.8/site-packages/numba/core/typing/npydecl.py:933: NumbaPerformanceWarning: '@' is faster on contiguous arrays, called on (array(float32, 2d, C), array(float32, 2d, A))\n",
      "  warnings.warn(NumbaPerformanceWarning(msg))\n"
     ]
    },
    {
     "data": {
      "text/plain": [
       "[<matplotlib.lines.Line2D at 0x7fcf404926a0>]"
      ]
     },
     "execution_count": 170,
     "metadata": {},
     "output_type": "execute_result"
    },
    {
     "data": {
      "image/png": "[encoded data removed]",
      "text/plain": [
       "<Figure size 432x288 with 1 Axes>"
      ]
     },
     "metadata": {},
     "output_type": "display_data"
    }
   ],
   "source": [
    "beta_ret, beta_adv = beta_gae(rewards, values, last_values, dones, final_dones, 9.*1e10, 1.*1e10, 0.95)\n",
    "\n",
    "plt.plot(buffer.advantages)\n",
    "\n",
    "plt.plot(beta_adv)"
   ]
  },
  {
   "cell_type": "code",
   "execution_count": 171,
   "metadata": {},
   "outputs": [
    {
     "data": {
      "text/plain": [
       "[<matplotlib.lines.Line2D at 0x7fcf28319e20>]"
      ]
     },
     "execution_count": 171,
     "metadata": {},
     "output_type": "execute_result"
    },
    {
     "data": {
      "image/png": "[encoded data removed]",
      "text/plain": [
       "<Figure size 432x288 with 1 Axes>"
      ]
     },
     "metadata": {},
     "output_type": "display_data"
    }
   ],
   "source": [
    "plt.plot(beta_adv - buffer.advantages)"
   ]
  },
  {
   "cell_type": "code",
   "execution_count": 172,
   "metadata": {},
   "outputs": [
    {
     "data": {
      "text/plain": [
       "[<matplotlib.lines.Line2D at 0x7fcf404ab430>]"
      ]
     },
     "execution_count": 172,
     "metadata": {},
     "output_type": "execute_result"
    },
    {
     "data": {
      "image/png": "[encoded data removed]",
      "text/plain": [
       "<Figure size 432x288 with 1 Axes>"
      ]
     },
     "metadata": {},
     "output_type": "display_data"
    }
   ],
   "source": [
    "diff = beta_ret - buffer.returns\n",
    "plt.plot(diff)"
   ]
  },
  {
   "cell_type": "markdown",
   "metadata": {},
   "source": [
    "# Random test"
   ]
  },
  {
   "cell_type": "code",
   "execution_count": 175,
   "metadata": {},
   "outputs": [],
   "source": [
    "T = 10000\n",
    "\n",
    "rewards = np.random.rand(T, 1).astype(np.float32)\n",
    "values = np.random.rand(T, 1).astype(np.float32)\n",
    "dones = np.zeros_like(rewards).astype(np.float32)\n",
    "final_dones = np.array([[1]]).astype(np.float32)\n",
    "last_values = np.array([[0.]]).astype(np.float32)\n",
    "\n",
    "dones = np.zeros((T, 1)).astype(np.float32)\n",
    "for i in range(0,T,T//10):\n",
    "    dones[i, 0] = 1 if i > 0 else 0"
   ]
  },
  {
   "cell_type": "code",
   "execution_count": 176,
   "metadata": {},
   "outputs": [],
   "source": [
    "buffer = RolloutBuffer(T, 0.95, 0.9, 1)\n",
    "\n",
    "buffer.rewards = rewards\n",
    "buffer.values = values\n",
    "buffer.dones = dones\n",
    "\n",
    "\n",
    "buffer.compute_returns_and_advantage(last_values, final_dones)"
   ]
  },
  {
   "cell_type": "code",
   "execution_count": 177,
   "metadata": {},
   "outputs": [
    {
     "data": {
      "text/plain": [
       "[<matplotlib.lines.Line2D at 0x7fcf404cee20>]"
      ]
     },
     "execution_count": 177,
     "metadata": {},
     "output_type": "execute_result"
    },
    {
     "data": {
      "image/png": "[encoded data removed]",
      "text/plain": [
       "<Figure size 432x288 with 1 Axes>"
      ]
     },
     "metadata": {},
     "output_type": "display_data"
    }
   ],
   "source": [
    "beta_ret, beta_adv = beta_gae(rewards, values, last_values, dones, final_dones, 1e10*9., 1e10*1., 0.95)\n",
    "\n",
    "plt.plot(buffer.advantages)\n",
    "\n",
    "plt.plot(beta_adv)"
   ]
  },
  {
   "cell_type": "code",
   "execution_count": 178,
   "metadata": {},
   "outputs": [
    {
     "data": {
      "text/plain": [
       "[<matplotlib.lines.Line2D at 0x7fcf404bc760>]"
      ]
     },
     "execution_count": 178,
     "metadata": {},
     "output_type": "execute_result"
    },
    {
     "data": {
      "image/png": "[encoded data removed]",
      "text/plain": [
       "<Figure size 432x288 with 1 Axes>"
      ]
     },
     "metadata": {},
     "output_type": "display_data"
    }
   ],
   "source": [
    "plt.plot(beta_adv - buffer.advantages)"
   ]
  },
  {
   "cell_type": "code",
   "execution_count": 179,
   "metadata": {},
   "outputs": [
    {
     "data": {
      "text/plain": [
       "[<matplotlib.lines.Line2D at 0x7fcf4194a7c0>]"
      ]
     },
     "execution_count": 179,
     "metadata": {},
     "output_type": "execute_result"
    },
    {
     "data": {
      "image/png": "[encoded data removed]",
      "text/plain": [
       "<Figure size 432x288 with 1 Axes>"
      ]
     },
     "metadata": {},
     "output_type": "display_data"
    }
   ],
   "source": [
    "diff = beta_ret - buffer.returns\n",
    "plt.plot(diff)"
   ]
  },
  {
   "cell_type": "code",
   "execution_count": 191,
   "metadata": {},
   "outputs": [],
   "source": [
    "T = 10000\n",
    "\n",
    "rewards = np.random.rand(T, 1).astype(np.float32)\n",
    "values = np.random.rand(T, 1).astype(np.float32)\n",
    "dones = np.zeros_like(rewards).astype(np.float32)\n",
    "final_dones = np.array([[0]]).astype(np.float32)\n",
    "last_values = np.array([[0.5]]).astype(np.float32)\n",
    "\n",
    "dones = np.zeros((T, 1)).astype(np.float32)\n",
    "for i in range(0,T,T//10):\n",
    "    dones[i, 0] = 1 if i > 0 else 0"
   ]
  },
  {
   "cell_type": "code",
   "execution_count": 192,
   "metadata": {},
   "outputs": [],
   "source": [
    "N = 10\n",
    "\n",
    "m_rewards = np.concatenate([rewards] * N, 1)\n",
    "m_values = np.concatenate([values] * N, 1)\n",
    "m_last_values = np.concatenate([last_values] * N, 1)\n",
    "m_dones = np.concatenate([dones] * N, 1)\n",
    "m_final_dones = np.concatenate([final_dones] * N, 1)"
   ]
  },
  {
   "cell_type": "code",
   "execution_count": 193,
   "metadata": {},
   "outputs": [
    {
     "name": "stdout",
     "output_type": "stream",
     "text": [
      "419 ms ± 2.08 ms per loop (mean ± std. dev. of 7 runs, 1 loop each)\n"
     ]
    }
   ],
   "source": [
    "%%timeit\n",
    "beta_gae(m_rewards, m_values, m_last_values, m_dones, m_final_dones, 99., 1., 0.95)"
   ]
  },
  {
   "cell_type": "code",
   "execution_count": 194,
   "metadata": {},
   "outputs": [
    {
     "name": "stdout",
     "output_type": "stream",
     "text": [
      "67.5 ms ± 791 µs per loop (mean ± std. dev. of 7 runs, 10 loops each)\n"
     ]
    }
   ],
   "source": [
    "%%timeit\n",
    "\n",
    "buffer = RolloutBuffer(T, 0.95, 0.9, N)\n",
    "\n",
    "buffer.rewards = m_rewards\n",
    "buffer.values = m_values\n",
    "buffer.dones = m_dones\n",
    "\n",
    "\n",
    "buffer.compute_returns_and_advantage(last_values, final_dones)"
   ]
  },
  {
   "cell_type": "code",
   "execution_count": null,
   "metadata": {},
   "outputs": [],
   "source": [
    "%%timeit\n",
    "beta_gae(m_rewards, m_values, m_last_values, m_dones, m_final_dones, 99., 1., 0.95)"
   ]
  },
  {
   "cell_type": "code",
   "execution_count": 311,
   "metadata": {},
   "outputs": [
    {
     "data": {
      "text/plain": [
       "(1000, 10)"
      ]
     },
     "execution_count": 311,
     "metadata": {},
     "output_type": "execute_result"
    }
   ],
   "source": [
    "m_dones.shape"
   ]
  },
  {
   "cell_type": "markdown",
   "metadata": {},
   "source": [
    "# KINDA WORKING VERSION"
   ]
  },
  {
   "cell_type": "code",
   "execution_count": 343,
   "metadata": {},
   "outputs": [],
   "source": [
    "def get_beta_vector(T: int,\n",
    "                    α: float,\n",
    "                    β: float) -> np.ndarray:\n",
    "    \n",
    "    discount = np.zeros((1, T))\n",
    "    \n",
    "    current_discount = 1\n",
    "    for t in range(T):\n",
    "        discount[0, t] = current_discount\n",
    "        current_discount *= (α + t) / (α + β + t)\n",
    "        \n",
    "    return discount\n",
    "\n",
    "def beta_gae(rewards: np.ndarray,      # [T, N]\n",
    "             values: np.ndarray,       # [T, N]\n",
    "             last_values: np.ndarray,  # [1, N]\n",
    "             dones: np.ndarray,        # [T, N], actually next_dones (whether previous step was terminal)\n",
    "             final_dones: np.ndarray,  # [1, N]\n",
    "             α: float = 99.,\n",
    "             β: float = 1.,\n",
    "             λ: float = 0.95):\n",
    "    \n",
    "    T = rewards.shape[0]\n",
    "    N = rewards.shape[1]  # Number of envs\n",
    "    \n",
    "    advantages = np.zeros((T, N))\n",
    "    \n",
    "    next_non_terminal = 1-np.concatenate((dones, final_dones))[1:]\n",
    "    next_values = np.concatenate((values, last_values))[1:]\n",
    "\n",
    "    \n",
    "    # Process dones\n",
    "    # !!! Assume all environments have episode ends simultaneously !!!\n",
    "    steps_until_eoe = np.zeros((T,), dtype=int)\n",
    "    is_final = np.zeros((T,), dtype=int)  # Might be starting too early OOBE\n",
    "    counter = 0\n",
    "    final = 1\n",
    "    done = False\n",
    "    for i, d in reversed(list(enumerate(dones[:, 0]))):\n",
    "        if done:\n",
    "            counter = 0\n",
    "            done = False\n",
    "            final = 0\n",
    "        steps_until_eoe[i] = counter\n",
    "        is_final[i] = final\n",
    "        counter += 1\n",
    "        done = d\n",
    "        \n",
    "    \n",
    "    Γ = get_beta_vector(T+1, α, β)\n",
    "    lambdas = np.array([[λ**l for l in range(T)]])\n",
    "    \n",
    "#     γ = α / (α + β)\n",
    "#     Γ = np.array([[γ**l for l in range(T+1)]])\n",
    "\n",
    "    factor = None\n",
    "    \n",
    "    for i in range(T):\n",
    "        steps_left = steps_until_eoe[i]\n",
    "        ep_lambdas = lambdas[:,:steps_left]\n",
    "        \n",
    "\n",
    "        old_value = -values[i]\n",
    "        future_rewards = (lambdas[:,:steps_left+1] * Γ[:,:steps_left+1]) @ rewards[i:i+steps_left+1]\n",
    "        \n",
    "        if is_final[i]:\n",
    "            steps_left += 1\n",
    "            \n",
    "            # Fix to properly handle the very last value of an episode\n",
    "            if factor is None:\n",
    "                factor = np.array([[1-λ for i in range(steps_left)]]).T\n",
    "                factor[-1] = 1.\n",
    "            else:\n",
    "                factor = factor[1:]\n",
    "                        \n",
    "            future_values = (lambdas[:,:steps_left] * Γ[:, 1:steps_left+1]) @ (next_values[i:i+steps_left] * next_non_terminal[i:i+steps_left] * factor[-steps_left:])\n",
    "\n",
    "        else:\n",
    "            future_values = (1-λ) * (lambdas[:,:steps_left] * Γ[:, 1:steps_left+1]) @ (next_values[i:i+steps_left] * next_non_terminal[i:i+steps_left])\n",
    "        \n",
    "\n",
    "        advantages[i] = old_value + future_rewards + future_values\n",
    "        \n",
    "    returns = advantages + values\n",
    "    \n",
    "    return returns, advantages\n",
    "    \n",
    "    \n"
   ]
  }
 ],
 "metadata": {
  "kernelspec": {
   "display_name": "Python 3.9 (beta)",
   "language": "python",
   "name": "beta"
  },
  "language_info": {
   "codemirror_mode": {
    "name": "ipython",
    "version": 3
   },
   "file_extension": ".py",
   "mimetype": "text/x-python",
   "name": "python",
   "nbconvert_exporter": "python",
   "pygments_lexer": "ipython3",
   "version": "3.8.5"
  }
 },
 "nbformat": 4,
 "nbformat_minor": 4
}
